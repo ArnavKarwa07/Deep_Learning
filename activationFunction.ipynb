{
 "cells": [
  {
   "cell_type": "markdown",
   "metadata": {},
   "source": [
    "Activation functions"
   ]
  },
  {
   "cell_type": "code",
   "execution_count": 8,
   "metadata": {},
   "outputs": [],
   "source": [
    "import math\n",
    "import matplotlib.pyplot as plt"
   ]
  },
  {
   "cell_type": "code",
   "execution_count": null,
   "metadata": {},
   "outputs": [],
   "source": [
    "# Sigmoid function\n",
    "# always returns value between 0 and 1\n",
    "def sigmoid(x):\n",
    "    return 1 / (1 + math.exp(-x))\n",
    "print(sigmoid(100))\n",
    "print(sigmoid(1))\n",
    "print(sigmoid(0))\n",
    "print(sigmoid(-1))\n",
    "print(sigmoid(-100))\n",
    "\n",
    "# plot of sigmoid function\n",
    "x = [i for i in range(-10, 11)]\n",
    "y = [sigmoid(i) for i in x]\n",
    "plt.plot(x, y)"
   ]
  },
  {
   "cell_type": "code",
   "execution_count": null,
   "metadata": {},
   "outputs": [],
   "source": [
    "# Tanh function\n",
    "# always returns value between -1 and 1\n",
    "# similar to sigmoid\n",
    "\n",
    "def tanh(x):\n",
    "    return (math.exp(x) - math.exp(-x)) / (math.exp(x) + math.exp(-x))\n",
    "print(tanh(100))\n",
    "print(tanh(1))\n",
    "print(tanh(0))\n",
    "print(tanh(-1))\n",
    "print(tanh(-100))\n",
    "\n",
    "# plot of tanh function\n",
    "x = [i for i in range(-10, 11)]\n",
    "y = [tanh(i) for i in x]\n",
    "plt.plot(x, y)\n"
   ]
  },
  {
   "cell_type": "code",
   "execution_count": null,
   "metadata": {},
   "outputs": [],
   "source": [
    "# Relu function\n",
    "# returns x if x > 0 else 0\n",
    "def relu(x):\n",
    "    return max(0, x)\n",
    "print(relu(100))\n",
    "print(relu(1))\n",
    "print(relu(0))\n",
    "print(relu(-1))\n",
    "print(relu(-100))\n",
    "\n",
    "# plot of relu function\n",
    "x = [i for i in range(-10, 11)]\n",
    "y = [relu(i) for i in x]\n",
    "plt.plot(x, y)"
   ]
  },
  {
   "cell_type": "code",
   "execution_count": null,
   "metadata": {},
   "outputs": [],
   "source": [
    "# Leaky Relu function\n",
    "# returns x if x > 0 else 0.01x\n",
    "def leaky_relu(x):\n",
    "    return max(0.01*x, x)\n",
    "print(leaky_relu(100))\n",
    "print(leaky_relu(1))\n",
    "print(leaky_relu(0))\n",
    "print(leaky_relu(-1))\n",
    "print(leaky_relu(-100))\n",
    "\n",
    "# plot of leaky relu function\n",
    "x = [i for i in range(-10, 11)]\n",
    "y = [leaky_relu(i) for i in x]\n",
    "plt.plot(x, y)"
   ]
  }
 ],
 "metadata": {
  "kernelspec": {
   "display_name": "Python 3",
   "language": "python",
   "name": "python3"
  },
  "language_info": {
   "codemirror_mode": {
    "name": "ipython",
    "version": 3
   },
   "file_extension": ".py",
   "mimetype": "text/x-python",
   "name": "python",
   "nbconvert_exporter": "python",
   "pygments_lexer": "ipython3",
   "version": "3.12.8"
  }
 },
 "nbformat": 4,
 "nbformat_minor": 2
}
